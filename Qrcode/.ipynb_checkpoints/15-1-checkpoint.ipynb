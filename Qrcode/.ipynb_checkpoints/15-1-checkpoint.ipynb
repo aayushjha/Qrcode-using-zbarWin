{
 "cells": [
  {
   "cell_type": "code",
   "execution_count": 2,
   "metadata": {},
   "outputs": [],
   "source": [
    "from pyzbar.pyzbar import decode\n",
    "import cv2 as cv\n",
    "import numpy as np"
   ]
  },
  {
   "cell_type": "code",
   "execution_count": 3,
   "metadata": {},
   "outputs": [],
   "source": [
    "from PIL import Image\n",
    "import io\n",
    "import requests\n",
    "raw=requests.get(\"https://chart.googleapis.com/chart?cht=qr&chl=Hi%20this%20is%20testing%20of%20qr%20code&chs=180x180&choe=UTF-8&chld=L|2' rel='nofollow\",stream=True).content"
   ]
  },
  {
   "cell_type": "code",
   "execution_count": 4,
   "metadata": {},
   "outputs": [],
   "source": [
    "img=Image.open(io.BytesIO(raw))"
   ]
  },
  {
   "cell_type": "code",
   "execution_count": 5,
   "metadata": {},
   "outputs": [
    {
     "data": {
      "text/plain": [
       "[Decoded(data=b'Hi this is testing of qr code', type='QRCODE', rect=Rect(left=28, top=28, width=123, height=123), polygon=[Point(x=28, y=28), Point(x=28, y=150), Point(x=151, y=151), Point(x=150, y=28)])]"
      ]
     },
     "execution_count": 5,
     "metadata": {},
     "output_type": "execute_result"
    }
   ],
   "source": [
    "decode(img)"
   ]
  },
  {
   "cell_type": "code",
   "execution_count": 6,
   "metadata": {},
   "outputs": [],
   "source": [
    "img1=np.array(img)"
   ]
  },
  {
   "cell_type": "code",
   "execution_count": 7,
   "metadata": {},
   "outputs": [],
   "source": [
    "p=decode(img1)"
   ]
  },
  {
   "cell_type": "code",
   "execution_count": 8,
   "metadata": {},
   "outputs": [
    {
     "data": {
      "text/plain": [
       "'Hi this is testing of qr code'"
      ]
     },
     "execution_count": 8,
     "metadata": {},
     "output_type": "execute_result"
    }
   ],
   "source": [
    "p[0].data.decode()"
   ]
  },
  {
   "cell_type": "code",
   "execution_count": 9,
   "metadata": {},
   "outputs": [],
   "source": [
    "x,y,w,h=p[0].rect"
   ]
  },
  {
   "cell_type": "code",
   "execution_count": 3,
   "metadata": {},
   "outputs": [],
   "source": [
    "cam=cv.VideoCapture(0)\n",
    "while True:\n",
    "    s,frame=cam.read()\n",
    "    p=decode(frame)\n",
    "    try:\n",
    "        x,y,w,h=p[0].rect\n",
    "        cv.rectangle(frame,(x,y),(x+w,y+h),(255,255,255),5)\n",
    "        text=p[0].data.decode()\n",
    "        cv.putText(frame, text, (x, h), cv.FONT_HERSHEY_SIMPLEX, 1.0, (255, 255, 255), lineType=cv.LINE_AA) \n",
    "    except:\n",
    "        pass\n",
    "    cv.imshow(\"1\",frame)\n",
    "    key=cv.waitKey(1)\n",
    "    if key==ord(\"q\"):\n",
    "        cv.destroyAllWindows()\n",
    "        break\n",
    "cam.release()"
   ]
  },
  {
   "cell_type": "code",
   "execution_count": null,
   "metadata": {},
   "outputs": [],
   "source": []
  }
 ],
 "metadata": {
  "kernelspec": {
   "display_name": "Python 3",
   "language": "python",
   "name": "python3"
  },
  "language_info": {
   "codemirror_mode": {
    "name": "ipython",
    "version": 3
   },
   "file_extension": ".py",
   "mimetype": "text/x-python",
   "name": "python",
   "nbconvert_exporter": "python",
   "pygments_lexer": "ipython3",
   "version": "3.7.3"
  }
 },
 "nbformat": 4,
 "nbformat_minor": 2
}

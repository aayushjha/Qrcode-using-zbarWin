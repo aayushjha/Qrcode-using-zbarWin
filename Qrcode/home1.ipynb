{
 "cells": [
  {
   "cell_type": "code",
   "execution_count": 5,
   "metadata": {},
   "outputs": [
    {
     "name": "stdin",
     "output_type": "stream",
     "text": [
      " Ayush JHa\n"
     ]
    },
    {
     "name": "stdout",
     "output_type": "stream",
     "text": [
      "aYUSH jhA\n"
     ]
    }
   ],
   "source": [
    "#Swaping the upper case character into lower case character\n",
    "def swap_case(s):\n",
    "    a=''\n",
    "    for i in s:\n",
    "        if ord(i) >= ord(\"A\") and ord(i) <= ord(\"Z\"):\n",
    "            ord1=ord(i)+32\n",
    "            d=chr(ord1)\n",
    "            a=a+d\n",
    "        if ord(i) >= ord(\"a\") and ord(i) <= ord(\"z\"):\n",
    "            ord1=ord(i)-32\n",
    "            c=chr(ord1)\n",
    "            a=a+c\n",
    "        if ord(i) >= ord(\" \") and ord(i) <= ord(\"/\"):\n",
    "            a=a+i\n",
    "    return a\n",
    "\n",
    "if __name__ == '__main__':\n",
    "    s =input()\n",
    "    result = swap_case(s)\n",
    "    print (result)"
   ]
  },
  {
   "cell_type": "code",
   "execution_count": null,
   "metadata": {},
   "outputs": [],
   "source": [
    "#spliting and joining the string \n",
    "def split_and_join(line):\n",
    "    a=line.split(\" \") #this will form a list which will contain the elements of the string which are seperated through space\n",
    "    i=\"-\".join(a)#now this join fuction will join the string through the elements of the list and with the delimitere specified with it \n",
    "    return i\n",
    "\n",
    "if __name__ == '__main__':\n",
    "    line = raw_input()\n",
    "    result = split_and_join(line)\n",
    "    print result"
   ]
  },
  {
   "cell_type": "code",
   "execution_count": 8,
   "metadata": {},
   "outputs": [
    {
     "name": "stdin",
     "output_type": "stream",
     "text": [
      " ayush\n",
      " jha\n"
     ]
    },
    {
     "name": "stdout",
     "output_type": "stream",
     "text": [
      "Hello ayush jha! You just delved into python.\n"
     ]
    }
   ],
   "source": [
    "#string formating\n",
    "def print_full_name(a, b):\n",
    "    print (\"Hello {0} {1}! You just delved into python.\".format(a,b))\n",
    "if __name__ == '__main__':\n",
    "    first_name = input()\n",
    "    last_name = input()\n",
    "    print_full_name(first_name, last_name)"
   ]
  },
  {
   "cell_type": "code",
   "execution_count": 11,
   "metadata": {},
   "outputs": [
    {
     "name": "stdin",
     "output_type": "stream",
     "text": [
      " kjhakhddfohfh\n",
      " 7 g\n"
     ]
    },
    {
     "name": "stdout",
     "output_type": "stream",
     "text": [
      "kjhakhdgfohfh\n"
     ]
    }
   ],
   "source": [
    "#changing the character at a given postion\n",
    "def mutate_string(string, position, character):\n",
    "    a=list(string)\n",
    "    a[position]=character\n",
    "    string1=\"\".join(a)\n",
    "    return string1\n",
    "\n",
    "\n",
    "if __name__ == '__main__':\n",
    "    s = input()\n",
    "    i, c = input().split()\n",
    "    s_new = mutate_string(s, int(i), c)\n",
    "    print (s_new)"
   ]
  },
  {
   "cell_type": "code",
   "execution_count": 13,
   "metadata": {},
   "outputs": [
    {
     "name": "stdin",
     "output_type": "stream",
     "text": [
      " kjshdnkfsjjsjndf\n",
      " 6 u\n"
     ]
    },
    {
     "name": "stdout",
     "output_type": "stream",
     "text": [
      "kjshdnufsjjsjndf\n"
     ]
    }
   ],
   "source": [
    "#second method using slicing\n",
    "def mutate_string(string, position, character):\n",
    "    string1=string[:position]+ character + string[position+1:]\n",
    "    return string1\n",
    "\n",
    "\n",
    "if __name__ == '__main__':\n",
    "    s = input()\n",
    "    i, c = input().split()\n",
    "    s_new = mutate_string(s, int(i), c)\n",
    "    print (s_new)"
   ]
  },
  {
   "cell_type": "code",
   "execution_count": 18,
   "metadata": {},
   "outputs": [
    {
     "name": "stdin",
     "output_type": "stream",
     "text": [
      " Ayush jha\n",
      " jha\n"
     ]
    },
    {
     "name": "stdout",
     "output_type": "stream",
     "text": [
      "1\n"
     ]
    }
   ],
   "source": [
    "#finding a substring from string\n",
    "def count_substring(string, sub_string):\n",
    "    results = 0\n",
    "    for i in range(len(string)):\n",
    "        \n",
    "        if string[i:i+len(sub_string)] == sub_string:\n",
    "            results += 1    \n",
    "    return results\n",
    "\n",
    "if __name__ == '__main__':\n",
    "    string =input().strip()\n",
    "    sub_string =input().strip()\n",
    "    \n",
    "    count = count_substring(string, sub_string)\n",
    "    print (count)"
   ]
  },
  {
   "cell_type": "code",
   "execution_count": null,
   "metadata": {},
   "outputs": [],
   "source": [
    "#this can simply be done using a predefined function count()\n",
    "string.count()\n",
    "# for i in range(len(s)):\n",
    "#     if s[i:i+sub_len] == sb:\n",
    "#         results += 1\n",
    "# print results"
   ]
  },
  {
   "cell_type": "code",
   "execution_count": 20,
   "metadata": {},
   "outputs": [
    {
     "name": "stdout",
     "output_type": "stream",
     "text": [
      "True\n"
     ]
    }
   ],
   "source": [
    "print ('ab123'.isalnum())\n"
   ]
  },
  {
   "cell_type": "code",
   "execution_count": 21,
   "metadata": {},
   "outputs": [
    {
     "name": "stdout",
     "output_type": "stream",
     "text": [
      "False\n"
     ]
    }
   ],
   "source": [
    "print( 'ab123#'.isalnum())"
   ]
  },
  {
   "cell_type": "code",
   "execution_count": 22,
   "metadata": {},
   "outputs": [],
   "source": [
    "#these are called as string validators \n",
    "# print 'abcD'.isalpha()\n",
    "# True\n",
    "# print 'abcd1'.isalpha()\n",
    "# False"
   ]
  },
  {
   "cell_type": "code",
   "execution_count": 23,
   "metadata": {},
   "outputs": [],
   "source": [
    "# >>> print '1234'.isdigit()\n",
    "# True\n",
    "# >>> print '123edsd'.isdigit()\n",
    "# False"
   ]
  },
  {
   "cell_type": "code",
   "execution_count": 24,
   "metadata": {},
   "outputs": [],
   "source": [
    "# >>> print 'abcd123#'.islower()\n",
    "# True\n",
    "# >>> print 'Abcd123#'.islower()\n",
    "# False"
   ]
  },
  {
   "cell_type": "code",
   "execution_count": null,
   "metadata": {},
   "outputs": [],
   "source": [
    "# >>> print 'ABCD123#'.isupper()\n",
    "# True\n",
    "# >>> print 'Abcd123#'.isupper()\n",
    "# False"
   ]
  },
  {
   "cell_type": "code",
   "execution_count": 26,
   "metadata": {},
   "outputs": [
    {
     "name": "stdout",
     "output_type": "stream",
     "text": [
      "False\n"
     ]
    }
   ],
   "source": [
    "# l = [1, 3, 4, 0]\n",
    "# print(any(l))\n",
    "\n",
    "l = [0, False]\n",
    "print(any(l))\n",
    "\n",
    "# l = [0, False, 5]\n",
    "# print(any(l))\n",
    "\n",
    "# l = []\n",
    "# print(any(l))"
   ]
  },
  {
   "cell_type": "code",
   "execution_count": 33,
   "metadata": {},
   "outputs": [
    {
     "name": "stdin",
     "output_type": "stream",
     "text": [
      " qA2\n"
     ]
    },
    {
     "name": "stdout",
     "output_type": "stream",
     "text": [
      "True\n",
      "True\n",
      "True\n",
      "True\n",
      "True\n"
     ]
    }
   ],
   "source": [
    "s=input()\n",
    "a=[]\n",
    "for char in s:\n",
    "    a.append(char.isalnum())\n",
    "print(any(a))\n",
    "b=[]\n",
    "for char in s:\n",
    "    b.append(char.isalpha())\n",
    "print(any(b))\n",
    "c=[]\n",
    "for char in s:\n",
    "    c.append(char.isdigit())\n",
    "print(any(a))\n",
    "d=[]\n",
    "for char in s:\n",
    "    d.append(char.islower())\n",
    "print(any(d))\n",
    "e=[]\n",
    "for char in s:\n",
    "    e.append(char.isupper())\n",
    "print(any(e))"
   ]
  },
  {
   "cell_type": "code",
   "execution_count": null,
   "metadata": {},
   "outputs": [],
   "source": []
  }
 ],
 "metadata": {
  "kernelspec": {
   "display_name": "Python 3",
   "language": "python",
   "name": "python3"
  },
  "language_info": {
   "codemirror_mode": {
    "name": "ipython",
    "version": 3
   },
   "file_extension": ".py",
   "mimetype": "text/x-python",
   "name": "python",
   "nbconvert_exporter": "python",
   "pygments_lexer": "ipython3",
   "version": "3.7.3"
  }
 },
 "nbformat": 4,
 "nbformat_minor": 2
}

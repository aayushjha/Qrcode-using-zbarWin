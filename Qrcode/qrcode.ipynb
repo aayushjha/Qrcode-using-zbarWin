{
 "cells": [
  {
   "cell_type": "code",
   "execution_count": 3,
   "metadata": {},
   "outputs": [],
   "source": [
    "from pyzbar.pyzbar import decode\n",
    "import cv2 as cv\n",
    "import numpy as np"
   ]
  },
  {
   "cell_type": "code",
   "execution_count": 4,
   "metadata": {},
   "outputs": [],
   "source": [
    "cam=cv.VideoCapture(0)\n",
    "while True:\n",
    "    s,frame=cam.read()\n",
    "    p=decode(frame)\n",
    "    if p :\n",
    "        x,y,w,h=p[0].rect\n",
    "        cv.rectangle(frame,(x,y),(x+w,y+h),(0,0,0),2)\n",
    "        text=p[0].data.decode()\n",
    "        cv.putText(frame, text,(x+w,y+h), cv.FONT_HERSHEY_SIMPLEX, 1.0, (255,0, 0), lineType=cv.LINE_AA) \n",
    "    cv.imshow(\"1\",frame)\n",
    "    key=cv.waitKey(1)\n",
    "    if key==ord(\"q\"):\n",
    "        cv.destroyAllWindows()\n",
    "        break\n",
    "cam.release()"
   ]
  },
  {
   "cell_type": "code",
   "execution_count": null,
   "metadata": {},
   "outputs": [],
   "source": []
  }
 ],
 "metadata": {
  "kernelspec": {
   "display_name": "Python 3",
   "language": "python",
   "name": "python3"
  },
  "language_info": {
   "codemirror_mode": {
    "name": "ipython",
    "version": 3
   },
   "file_extension": ".py",
   "mimetype": "text/x-python",
   "name": "python",
   "nbconvert_exporter": "python",
   "pygments_lexer": "ipython3",
   "version": "3.7.3"
  }
 },
 "nbformat": 4,
 "nbformat_minor": 2
}
